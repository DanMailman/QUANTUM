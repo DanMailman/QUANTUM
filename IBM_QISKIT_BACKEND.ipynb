{
 "cells": [
  {
   "cell_type": "code",
   "execution_count": 1,
   "metadata": {
    "pycharm": {
     "name": "#%%\n"
    }
   },
   "outputs": [],
   "source": [
    "# IBM_QISKIT_BACKEND.ipynb: Tools for accessing IBM Quantum Resources using qiskit"
   ]
  },
  {
   "cell_type": "code",
   "execution_count": 16,
   "metadata": {
    "pycharm": {
     "name": "#%%\n"
    }
   },
   "outputs": [],
   "source": [
    "from qiskit               import QuantumCircuit       # QuantumCircuit\n",
    "from qiskit               import __qiskit_version__   # __qiskit_version__\n",
    "from qiskit.visualization import plot_histogram       # plot_histogram\n",
    "from qiskit_ibm_runtime   import QiskitRuntimeService # QiskitRuntimeService\n",
    "from qiskit_ibm_runtime   import Sampler              # Sampler\n",
    "from qiskit_ibm_provider  import IBMProvider          # IBMProvider, save_account(), backends()\n",
    "from pandas               import DataFrame            # DataFrame\n",
    "from random               import choice               # choice()"
   ]
  },
  {
   "cell_type": "code",
   "execution_count": 3,
   "metadata": {
    "pycharm": {
     "name": "#%%\n"
    }
   },
   "outputs": [],
   "source": [
    "# CONSTANTS\n",
    "ACCOUNT_SAVED_TO_DISK = True\n",
    "TOKEN = '' # THIS IS EMPTY FOR SECURITY PURPOSES - USE, THEN REMOVE, TOKEN FROM IBM ACCOUNT IF NECESSARY"
   ]
  },
  {
   "cell_type": "code",
   "execution_count": 4,
   "metadata": {},
   "outputs": [],
   "source": [
    "# Function Definitions\n",
    "def GetIbmQuantumProvider() -> IBMProvider:\n",
    "    # GetIbmQuantumProvider(): Save Token, if necessary, and Return IBMProvider object for Saved Token\n",
    "    # Implementation: IBMProvider Constructor and save_account() method\n",
    "    # REF: # https://qiskit.org/ecosystem/ibm-provider/stubs/qiskit_ibm_provider.IBMProvider.html#ibmprovider\n",
    "    if not ACCOUNT_SAVED_TO_DISK:\n",
    "        IBMProvider.save_account(token=TOKEN) # Save account credentials.\n",
    "    oAccountProvider = IBMProvider() # Authenticate against IBM Quantum for use from saved credentials or during session\n",
    "    #print(f'oAccountProvider: {oAccountProvider}')\n",
    "    #print( f'\\ntype(oAccountProvider): {type(oAccountProvider)}')\n",
    "    return oAccountProvider\n",
    "def MakeBackEndsDF(oProvider:IBMProvider) -> DataFrame:\n",
    "    # MakeBackEndsDF(): Return DataFrame of Useful Information about Available Backends\n",
    "    # Impementation: Iterate on oProvider.backends(); Pandas DataFrame, sort_values() for returned DF\n",
    "    vBackendObjs  = oProvider.backends() # Vector of Backend Objects\n",
    "    vBackendDicts = []  # Vector of Backend Dictionaries\n",
    "    for oBackend in vBackendObjs:\n",
    "        dictBackendInfo = {'NAME':oBackend.name, 'SIM': oBackend.simulator}\n",
    "        vBackendDicts.append(dictBackendInfo)\n",
    "    return DataFrame(vBackendDicts).sort_values(by=\"SIM\", axis='index',inplace=False,ascending=False)\n",
    "def ListBackends(dfbackends: DataFrame) -> None:\n",
    "    print(dfBackends)\n",
    "def PrintQiskitVersions():\n",
    "     for k in __qiskit_version__:\n",
    "          print(f'{k}', __qiskit_version__[k])\n",
    "def GetRandomBackEnd(oProvider):\n",
    "    oBackend = oProvider.get_backend(choice(MakeBackEndsDF(oProvider)['NAME'].tolist()))\n",
    "    # print( f'\\ntype(oBackend): {type(oBackend)}')\n",
    "    return oBackend"
   ]
  },
  {
   "cell_type": "code",
   "execution_count": 5,
   "metadata": {
    "pycharm": {
     "name": "#%%\n"
    }
   },
   "outputs": [
    {
     "name": "stdout",
     "output_type": "stream",
     "text": [
      "                             NAME    SIM\n",
      "0             ibmq_qasm_simulator   True\n",
      "2            simulator_stabilizer   True\n",
      "10  simulator_extended_stabilizer   True\n",
      "11                  simulator_mps   True\n",
      "12          simulator_statevector   True\n",
      "1                      ibmq_belem  False\n",
      "3                       ibm_lagos  False\n",
      "4                       ibm_perth  False\n",
      "5                     ibmq_manila  False\n",
      "6                     ibm_nairobi  False\n",
      "7                    ibmq_jakarta  False\n",
      "8                      ibmq_quito  False\n",
      "9                       ibmq_lima  False\n"
     ]
    }
   ],
   "source": [
    "# Example Function Calls\n",
    "oProvider = GetIbmQuantumProvider()     # Obtain IBMProvider Object\n",
    "dfBackends = MakeBackEndsDF(oProvider)  # Obtain DF of Backend Information From Provider\n",
    "ListBackends(dfBackends)                # Output Useful Backend Information\n",
    "oBackend = GetRandomBackEnd(oProvider)  # Obtain a Random Backend Object"
   ]
  },
  {
   "cell_type": "code",
   "execution_count": 6,
   "outputs": [],
   "source": [
    "def GetQC00() -> QuantumCircuit:\n",
    "    # GetQC01(): Return Example Quantum Circuit\n",
    "    # Implementation: Quantum Circuit Method Calls\n",
    "    # NOTE: qc.draw(\"mpl\") # Return a drawing of the circuit using MatPlotLib (\"mpl\").\n",
    "    # NOTE: Remove the \"mpl\" argument to get a text drawing.\n",
    "    qcRet = QuantumCircuit(2, 2) # Create 2 qubits/2 bit Circuit\n",
    "    return qcRet\n",
    "def GetQC01() -> QuantumCircuit:\n",
    "    qcRet = QuantumCircuit(2, 2) # Create 2 qubits/2 bit Circuit\n",
    "    qcRet.h(0)                   # Add a Hadamard gate to qubit 0\n",
    "    return qcRet\n",
    "def GetQC02() -> QuantumCircuit:\n",
    "    qcRet = QuantumCircuit(2, 2) # Create 2 qubits/2 bit Circuit\n",
    "    qcRet.h(0)                   # Add a Hadamard gate to qubit 0\n",
    "    qcRet.cx(0, 1)                # Perform a controlled-X gate on qubit 1, controlled by qubit 0\n",
    "    return qcRet\n",
    "def GetQC03() -> QuantumCircuit:\n",
    "    qcRet = QuantumCircuit(2, 2) # Create 2 qubits/2 bit Circuit\n",
    "    qcRet.h(0)            # Add a Hadamard gate to qubit 0\n",
    "    qcRet.cx(0, 1)      # Perform a controlled-X gate on qubit 1, controlled by qubit 0\n",
    "    qcRet.measure(0, 0) # Measure qubit 0 to bit 0, and qubit 1 to bit 1\n",
    "    return qcRet\n",
    "def GetQC04() -> QuantumCircuit:\n",
    "    qcRet = QuantumCircuit(2, 2) # Create 2 qubits/2 bit Circuit\n",
    "    qcRet.h(0)            # Add a Hadamard gate to qubit 0\n",
    "    qcRet.cx(0, 1)      # Perform a controlled-X gate on qubit 1, controlled by qubit 0\n",
    "    qcRet.measure(0, 0) # Measure qubit 0 to bit 0, and qubit 1 to bit 1\n",
    "    qcRet.measure(1, 1) # Measure qubit 0 to bit 0, and qubit 1 to bit 1\n",
    "    return qcRet\n",
    "qc00 = GetQC00()\n",
    "qc01 = GetQC01()\n",
    "qc02 = GetQC02()\n",
    "qc03 = GetQC03()\n",
    "qc04 = GetQC04()"
   ],
   "metadata": {
    "collapsed": false,
    "pycharm": {
     "name": "#%%\n"
    }
   }
  },
  {
   "cell_type": "code",
   "execution_count": 7,
   "outputs": [
    {
     "data": {
      "text/plain": "<Figure size 161.878x284.278 with 1 Axes>",
      "image/png": "[encoded data removed]"
     },
     "execution_count": 7,
     "metadata": {},
     "output_type": "execute_result"
    }
   ],
   "source": [
    "qc00.draw(\"mpl\")"
   ],
   "metadata": {
    "collapsed": false,
    "pycharm": {
     "name": "#%%\n"
    }
   }
  },
  {
   "cell_type": "code",
   "execution_count": 8,
   "outputs": [
    {
     "data": {
      "text/plain": "<Figure size 203.683x284.278 with 1 Axes>",
      "image/png": "[encoded data removed]"
     },
     "execution_count": 8,
     "metadata": {},
     "output_type": "execute_result"
    }
   ],
   "source": [
    "qc01.draw(\"mpl\")"
   ],
   "metadata": {
    "collapsed": false,
    "pycharm": {
     "name": "#%%\n"
    }
   }
  },
  {
   "cell_type": "code",
   "execution_count": 9,
   "outputs": [
    {
     "data": {
      "text/plain": "<Figure size 287.294x284.278 with 1 Axes>",
      "image/png": "[encoded data removed]"
     },
     "execution_count": 9,
     "metadata": {},
     "output_type": "execute_result"
    }
   ],
   "source": [
    "qc02.draw(\"mpl\")"
   ],
   "metadata": {
    "collapsed": false,
    "pycharm": {
     "name": "#%%\n"
    }
   }
  },
  {
   "cell_type": "code",
   "execution_count": 10,
   "outputs": [
    {
     "data": {
      "text/plain": "<Figure size 370.906x284.278 with 1 Axes>",
      "image/png": "[encoded data removed]"
     },
     "execution_count": 10,
     "metadata": {},
     "output_type": "execute_result"
    }
   ],
   "source": [
    "qc03.draw(\"mpl\")"
   ],
   "metadata": {
    "collapsed": false,
    "pycharm": {
     "name": "#%%\n"
    }
   }
  },
  {
   "cell_type": "code",
   "execution_count": 11,
   "outputs": [
    {
     "data": {
      "text/plain": "<Figure size 454.517x284.278 with 1 Axes>",
      "image/png": "[encoded data removed]"
     },
     "execution_count": 11,
     "metadata": {},
     "output_type": "execute_result"
    }
   ],
   "source": [
    "qc04.draw(\"mpl\")"
   ],
   "metadata": {
    "collapsed": false,
    "pycharm": {
     "name": "#%%\n"
    }
   }
  },
  {
   "cell_type": "code",
   "execution_count": 12,
   "outputs": [
    {
     "data": {
      "text/plain": "SamplerResult(quasi_dists=[{3: 0.50775, 0: 0.49225}], metadata=[{'shots': 4000}])"
     },
     "execution_count": 12,
     "metadata": {},
     "output_type": "execute_result"
    }
   ],
   "source": [
    "service = QiskitRuntimeService()\n",
    "backend = service.least_busy(simulator=True,operational=True) # Run on the least-busy backend you have access to\n",
    "# backend = service.least_busy(simulator=False,operational=True) # Run on the least-busy backend you have access to\n",
    "# backend = service.get_backend(\"ibmq_qasm_simulator\")\n",
    "sampler = Sampler(backend)                                     # Create a Sampler object\n",
    "job = sampler.run(qc04)                                        # Submit the circuit to the sampler"
   ],
   "metadata": {
    "collapsed": false,
    "pycharm": {
     "name": "#%%\n"
    }
   }
  },
  {
   "cell_type": "code",
   "execution_count": 13,
   "outputs": [
    {
     "data": {
      "text/plain": "SamplerResult(quasi_dists=[{3: 0.50775, 0: 0.49225}], metadata=[{'shots': 4000}])"
     },
     "execution_count": 13,
     "metadata": {},
     "output_type": "execute_result"
    }
   ],
   "source": [
    "job.result()                                                   # Once the job is complete, get the result"
   ],
   "metadata": {
    "collapsed": false,
    "pycharm": {
     "name": "#%%\n"
    }
   }
  },
  {
   "cell_type": "code",
   "execution_count": 17,
   "outputs": [
    {
     "data": {
      "text/plain": "<Figure size 700x500 with 1 Axes>",
      "image/png": "[encoded data removed]"
     },
     "execution_count": 17,
     "metadata": {},
     "output_type": "execute_result"
    }
   ],
   "source": [
    "plot_histogram( job.result().quasi_dists )"
   ],
   "metadata": {
    "collapsed": false,
    "pycharm": {
     "name": "#%%\n"
    }
   }
  },
  {
   "cell_type": "code",
   "execution_count": 18,
   "outputs": [
    {
     "data": {
      "text/plain": "<IPython.core.display.HTML object>",
      "text/html": "<h3>Version Information</h3><table><tr><th>Software</th><th>Version</th></tr><tr><td><code>qiskit</code></td><td>0.44.1</td></tr><tr><td><code>qiskit-terra</code></td><td>0.25.1</td></tr><tr><td><code>qiskit_ibm_runtime</code></td><td>0.12.1</td></tr><tr><td><code>qiskit_ibm_provider</code></td><td>0.7.0</td></tr><tr><th colspan='2'>System information</th></tr><tr><td>Python version</td><td>3.11.3</td></tr><tr><td>Python compiler</td><td>MSC v.1934 64 bit (AMD64)</td></tr><tr><td>Python build</td><td>tags/v3.11.3:f3909b8, Apr  4 2023 23:49:59</td></tr><tr><td>OS</td><td>Windows</td></tr><tr><td>CPUs</td><td>2</td></tr><tr><td>Memory (Gb)</td><td>31.840682983398438</td></tr><tr><td colspan='2'>Sat Sep 16 17:53:49 2023 Eastern Daylight Time</td></tr></table>"
     },
     "metadata": {},
     "output_type": "display_data"
    }
   ],
   "source": [
    "import qiskit.tools.jupyter\n",
    "%qiskit_version_table"
   ],
   "metadata": {
    "collapsed": false,
    "pycharm": {
     "name": "#%%\n"
    }
   }
  },
  {
   "cell_type": "code",
   "execution_count": null,
   "outputs": [],
   "source": [],
   "metadata": {
    "collapsed": false,
    "pycharm": {
     "name": "#%%\n"
    }
   }
  }
 ],
 "metadata": {
  "kernelspec": {
   "display_name": "Python 3 (ipykernel)",
   "language": "python",
   "name": "python3"
  },
  "language_info": {
   "codemirror_mode": {
    "name": "ipython",
    "version": 3
   },
   "file_extension": ".py",
   "mimetype": "text/x-python",
   "name": "python",
   "nbconvert_exporter": "python",
   "pygments_lexer": "ipython3",
   "version": "3.11.3"
  }
 },
 "nbformat": 4,
 "nbformat_minor": 1
}
{
 "cells": [
  {
   "cell_type": "code",
   "execution_count": 1,
   "metadata": {
    "pycharm": {
     "name": "#%%\n"
    }
   },
   "outputs": [],
   "source": [
    "import qiskit\n",
    "from qiskit_ibm_provider import IBMProvider\n",
    "from pandas import DataFrame\n",
    "from random import choice"
   ]
  },
  {
   "cell_type": "code",
   "execution_count": 2,
   "metadata": {},
   "outputs": [
    {
     "name": "stdout",
     "output_type": "stream",
     "text": [
      "oAccountProvider: <IBMProvider>\n"
     ]
    }
   ],
   "source": [
    "ACCOUNT_SAVED_TO_DISK = True\n",
    "TOKEN = '' # THIS IS EMPTY FOR SECURITY PURPOSES - USE TOKEN FROM IBM ACCOUNT IF NECESSARY\n",
    "if (ACCOUNT_SAVED_TO_DISK):\n",
    "    oAccountProvider = IBMProvider() # Authenticate against IBM Quantum for use from saved credentials or during session\n",
    "else:\n",
    "    oAccountProvider.save_account(token=TOKEN) # Save account credentials.\n",
    "print(f'oAccountProvider: {oAccountProvider}')\n",
    "#print( f'\\ntype(oAccountProvider): {type(oAccountProvider)}')\n",
    "# https://qiskit.org/ecosystem/ibm-provider/stubs/qiskit_ibm_provider.IBMProvider.html#ibmprovider"
   ]
  },
  {
   "cell_type": "code",
   "execution_count": 3,
   "metadata": {},
   "outputs": [],
   "source": [
    "def PrintQiskitVersions():\n",
    "     for k in qiskit.__qiskit_version__:\n",
    "          print(f'{k}', qiskit.__qiskit_version__[k])\n",
    "def MakeBackEndsDF():    \n",
    "    vBackends = oAccountProvider.backends()\n",
    "    vkBackends = []\n",
    "    for oBackend in vBackends:\n",
    "        kBackend = {'NAME':oBackend.name, 'SIM': oBackend.simulator}\n",
    "        #print(type(oBackend.name))\n",
    "        vkBackends.append(kBackend)\n",
    "    return DataFrame(vkBackends).sort_values(by=\"SIM\", axis='index',inplace=False,ascending=False)\n",
    "def GetRandomBackEnd():\n",
    "    print(choice(MakeBackEndsDF()['NAME'].tolist()))\n",
    "    return oAccountProvider.get_backend(choice(MakeBackEndsDF()['NAME'].tolist()))"
   ]
  },
  {
   "cell_type": "code",
   "execution_count": 4,
   "metadata": {
    "pycharm": {
     "name": "#%%\n"
    }
   },
   "outputs": [
    {
     "name": "stdout",
     "output_type": "stream",
     "text": [
      "qiskit-terra 0.25.1\n",
      "qiskit 0.44.1\n",
      "qiskit-aer None\n",
      "qiskit-ignis None\n",
      "qiskit-ibmq-provider 0.20.2\n",
      "qiskit-nature None\n",
      "qiskit-finance None\n",
      "qiskit-optimization None\n",
      "qiskit-machine-learning None\n",
      "simulator_extended_stabilizer\n",
      "<IBMBackend('ibmq_jakarta')>\n",
      "\n",
      "type(oBackend): <class 'qiskit_ibm_provider.ibm_backend.IBMBackend'>\n"
     ]
    }
   ],
   "source": [
    "PrintQiskitVersions()\n",
    "oBackend = GetRandomBackEnd()\n",
    "print(oBackend)\n",
    "print( f'\\ntype(oBackend): {type(oBackend)}')"
   ]
  },
  {
   "cell_type": "code",
   "execution_count": null,
   "metadata": {
    "pycharm": {
     "name": "#%%\n"
    }
   },
   "outputs": [],
   "source": []
  },
  {
   "cell_type": "code",
   "execution_count": null,
   "metadata": {
    "pycharm": {
     "name": "#%%\n"
    }
   },
   "outputs": [],
   "source": []
  },
  {
   "cell_type": "code",
   "execution_count": null,
   "metadata": {
    "pycharm": {
     "name": "#%%\n"
    }
   },
   "outputs": [],
   "source": []
  }
 ],
 "metadata": {
  "kernelspec": {
   "display_name": "Python 3 (ipykernel)",
   "language": "python",
   "name": "python3"
  },
  "language_info": {
   "codemirror_mode": {
    "name": "ipython",
    "version": 3
   },
   "file_extension": ".py",
   "mimetype": "text/x-python",
   "name": "python",
   "nbconvert_exporter": "python",
   "pygments_lexer": "ipython3",
   "version": "3.11.3"
  }
 },
 "nbformat": 4,
 "nbformat_minor": 1
}
